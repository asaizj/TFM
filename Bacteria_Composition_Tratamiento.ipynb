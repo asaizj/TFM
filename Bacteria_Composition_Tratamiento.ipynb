{
 "cells": [
  {
   "cell_type": "code",
   "execution_count": 17,
   "id": "02706180-2491-408b-8fa1-1e5be07308e2",
   "metadata": {},
   "outputs": [],
   "source": [
    "import pandas as pd\n",
    "import re"
   ]
  },
  {
   "cell_type": "code",
   "execution_count": 39,
   "id": "127bc595-3a67-4ba5-8c16-387ca07d6920",
   "metadata": {},
   "outputs": [],
   "source": [
    "# Se carga el CSV como dataset\n",
    "bacteria_composition_df = pd.read_csv('/Users/alejandra/UNIR/TFM/analyses-bacteria-composition.csv', sep = ';',\n",
    "                                     usecols = ['Bacteria', 'Aliquot barcode mirna seq', 'Relative abundance'],\n",
    "                                     dtype = {'Bacteria': str, 'Aliquot barcode mirna seq': str})"
   ]
  },
  {
   "cell_type": "code",
   "execution_count": 31,
   "id": "d3f439e4-28ce-45d2-b102-2925b5153b8d",
   "metadata": {},
   "outputs": [
    {
     "data": {
      "text/html": [
       "<div>\n",
       "<style scoped>\n",
       "    .dataframe tbody tr th:only-of-type {\n",
       "        vertical-align: middle;\n",
       "    }\n",
       "\n",
       "    .dataframe tbody tr th {\n",
       "        vertical-align: top;\n",
       "    }\n",
       "\n",
       "    .dataframe thead th {\n",
       "        text-align: right;\n",
       "    }\n",
       "</style>\n",
       "<table border=\"1\" class=\"dataframe\">\n",
       "  <thead>\n",
       "    <tr style=\"text-align: right;\">\n",
       "      <th></th>\n",
       "      <th>Bacteria</th>\n",
       "      <th>Aliquot barcode mirna seq</th>\n",
       "      <th>Relative abundance</th>\n",
       "    </tr>\n",
       "  </thead>\n",
       "  <tbody>\n",
       "    <tr>\n",
       "      <th>0</th>\n",
       "      <td>Actinomycetales</td>\n",
       "      <td>TCGA-BH-A0RX-01A-21R-A085-13</td>\n",
       "      <td>0.160804</td>\n",
       "    </tr>\n",
       "    <tr>\n",
       "      <th>1</th>\n",
       "      <td>Actinomycetales</td>\n",
       "      <td>TCGA-A8-A07R-01A-21R-A035-13</td>\n",
       "      <td>0.329167</td>\n",
       "    </tr>\n",
       "    <tr>\n",
       "      <th>2</th>\n",
       "      <td>Actinomycetales</td>\n",
       "      <td>TCGA-AC-A6IV-01A-12R-A33A-13</td>\n",
       "      <td>0.137374</td>\n",
       "    </tr>\n",
       "    <tr>\n",
       "      <th>3</th>\n",
       "      <td>Actinomycetales</td>\n",
       "      <td>TCGA-AO-A0JI-01A-21R-A057-13</td>\n",
       "      <td>0.247059</td>\n",
       "    </tr>\n",
       "    <tr>\n",
       "      <th>4</th>\n",
       "      <td>Actinomycetales</td>\n",
       "      <td>TCGA-A2-A3XX-01A-21R-A23A-13</td>\n",
       "      <td>0.136170</td>\n",
       "    </tr>\n",
       "  </tbody>\n",
       "</table>\n",
       "</div>"
      ],
      "text/plain": [
       "          Bacteria     Aliquot barcode mirna seq  Relative abundance\n",
       "0  Actinomycetales  TCGA-BH-A0RX-01A-21R-A085-13            0.160804\n",
       "1  Actinomycetales  TCGA-A8-A07R-01A-21R-A035-13            0.329167\n",
       "2  Actinomycetales  TCGA-AC-A6IV-01A-12R-A33A-13            0.137374\n",
       "3  Actinomycetales  TCGA-AO-A0JI-01A-21R-A057-13            0.247059\n",
       "4  Actinomycetales  TCGA-A2-A3XX-01A-21R-A23A-13            0.136170"
      ]
     },
     "execution_count": 31,
     "metadata": {},
     "output_type": "execute_result"
    }
   ],
   "source": [
    "bacteria_composition_df.head(5)"
   ]
  },
  {
   "cell_type": "code",
   "execution_count": 33,
   "id": "31ce1186-8d3b-4b81-8f66-8093fc52a0b0",
   "metadata": {},
   "outputs": [
    {
     "data": {
      "text/html": [
       "<div>\n",
       "<style scoped>\n",
       "    .dataframe tbody tr th:only-of-type {\n",
       "        vertical-align: middle;\n",
       "    }\n",
       "\n",
       "    .dataframe tbody tr th {\n",
       "        vertical-align: top;\n",
       "    }\n",
       "\n",
       "    .dataframe thead th {\n",
       "        text-align: right;\n",
       "    }\n",
       "</style>\n",
       "<table border=\"1\" class=\"dataframe\">\n",
       "  <thead>\n",
       "    <tr style=\"text-align: right;\">\n",
       "      <th></th>\n",
       "      <th>Bacteria</th>\n",
       "      <th>Aliquot barcode mirna seq</th>\n",
       "      <th>Relative abundance</th>\n",
       "    </tr>\n",
       "  </thead>\n",
       "  <tbody>\n",
       "    <tr>\n",
       "      <th>0</th>\n",
       "      <td>Actinomycetales</td>\n",
       "      <td>TCGA-BH-A0RX-01A</td>\n",
       "      <td>0.160804</td>\n",
       "    </tr>\n",
       "    <tr>\n",
       "      <th>1</th>\n",
       "      <td>Actinomycetales</td>\n",
       "      <td>TCGA-A8-A07R-01A</td>\n",
       "      <td>0.329167</td>\n",
       "    </tr>\n",
       "    <tr>\n",
       "      <th>2</th>\n",
       "      <td>Actinomycetales</td>\n",
       "      <td>TCGA-AC-A6IV-01A</td>\n",
       "      <td>0.137374</td>\n",
       "    </tr>\n",
       "    <tr>\n",
       "      <th>3</th>\n",
       "      <td>Actinomycetales</td>\n",
       "      <td>TCGA-AO-A0JI-01A</td>\n",
       "      <td>0.247059</td>\n",
       "    </tr>\n",
       "    <tr>\n",
       "      <th>4</th>\n",
       "      <td>Actinomycetales</td>\n",
       "      <td>TCGA-A2-A3XX-01A</td>\n",
       "      <td>0.136170</td>\n",
       "    </tr>\n",
       "  </tbody>\n",
       "</table>\n",
       "</div>"
      ],
      "text/plain": [
       "          Bacteria Aliquot barcode mirna seq  Relative abundance\n",
       "0  Actinomycetales          TCGA-BH-A0RX-01A            0.160804\n",
       "1  Actinomycetales          TCGA-A8-A07R-01A            0.329167\n",
       "2  Actinomycetales          TCGA-AC-A6IV-01A            0.137374\n",
       "3  Actinomycetales          TCGA-AO-A0JI-01A            0.247059\n",
       "4  Actinomycetales          TCGA-A2-A3XX-01A            0.136170"
      ]
     },
     "execution_count": 33,
     "metadata": {},
     "output_type": "execute_result"
    }
   ],
   "source": [
    "# Patrón de expresión regular para extraer subcadena hasta \"01A\", \"01B\", \"11A\" O \"11B\" \n",
    "pattern = re.compile(r'^(.*?(01[AB]|11[AB]))')\n",
    "\n",
    "# Función para extraer la subcadena necesaria para cruzar con los otros dos datasets\n",
    "def extract_substring_aliquot(s):\n",
    "    match = pattern.match(s)\n",
    "    if match:\n",
    "        return match.group(1)\n",
    "    return s\n",
    "    \n",
    "bacteria_composition_df['Aliquot barcode mirna seq'] = bacteria_composition_df['Aliquot barcode mirna seq'].apply(extract_substring_aliquot)\n",
    "\n",
    "bacteria_composition_df.head(5)"
   ]
  },
  {
   "cell_type": "markdown",
   "id": "0f4bd0c2-7d0b-4f49-9ea8-b285560a351e",
   "metadata": {},
   "source": [
    "Con el nuevo formato de la columna 'Aliquot barcode mirna seq' ya se puede cruzar la información con los otros dos datasets. Se genera un nuevo CSV con la modificación realizada."
   ]
  },
  {
   "cell_type": "code",
   "execution_count": 37,
   "id": "d90632b6-152d-4cd5-ae31-a4060038dad9",
   "metadata": {},
   "outputs": [],
   "source": [
    "bacteria_composition_df.to_csv('bacteria_composition_modified.csv', index = False)"
   ]
  }
 ],
 "metadata": {
  "kernelspec": {
   "display_name": "Python 3 (ipykernel)",
   "language": "python",
   "name": "python3"
  },
  "language_info": {
   "codemirror_mode": {
    "name": "ipython",
    "version": 3
   },
   "file_extension": ".py",
   "mimetype": "text/x-python",
   "name": "python",
   "nbconvert_exporter": "python",
   "pygments_lexer": "ipython3",
   "version": "3.11.8"
  }
 },
 "nbformat": 4,
 "nbformat_minor": 5
}
